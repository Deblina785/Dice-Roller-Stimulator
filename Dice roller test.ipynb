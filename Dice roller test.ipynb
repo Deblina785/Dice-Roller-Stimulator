{
 "cells": [
  {
   "cell_type": "code",
   "execution_count": 1,
   "id": "8d99e65b",
   "metadata": {},
   "outputs": [],
   "source": [
    "from tkinter import *"
   ]
  },
  {
   "cell_type": "code",
   "execution_count": 2,
   "id": "8717c782",
   "metadata": {},
   "outputs": [
    {
     "name": "stdout",
     "output_type": "stream",
     "text": [
      "hello\n"
     ]
    }
   ],
   "source": [
    "print('hello')"
   ]
  },
  {
   "cell_type": "code",
   "execution_count": 7,
   "id": "bda2f4f3",
   "metadata": {},
   "outputs": [],
   "source": [
    "import random"
   ]
  },
  {
   "cell_type": "code",
   "execution_count": 46,
   "id": "818b7540",
   "metadata": {},
   "outputs": [],
   "source": [
    "root = Tk()\n",
    "root.geometry(\"700x450\")\n",
    "\n",
    "l1=Label(root,text='',font=('times',200))\n",
    "\n",
    "def press():\n",
    "    num =['\\u2680','\\u2681','\\u2682','\\u2683','\\u2684','\\u2685']\n",
    "    l1.config(text=f'{random.choice(num)}')\n",
    "    l1.pack()\n",
    "\n",
    "button=Button(root,text=\"Roll\",activebackground=\"red\",activeforeground=\"white\",command=press,width=15,height=4,fg=\"blue\",\n",
    "              bg='pink',bd=15)\n",
    "button.place(x=300,y=0)\n",
    "root.mainloop()"
   ]
  }
 ],
 "metadata": {
  "kernelspec": {
   "display_name": "Python 3",
   "language": "python",
   "name": "python3"
  },
  "language_info": {
   "codemirror_mode": {
    "name": "ipython",
    "version": 3
   },
   "file_extension": ".py",
   "mimetype": "text/x-python",
   "name": "python",
   "nbconvert_exporter": "python",
   "pygments_lexer": "ipython3",
   "version": "3.8.8"
  }
 },
 "nbformat": 4,
 "nbformat_minor": 5
}
